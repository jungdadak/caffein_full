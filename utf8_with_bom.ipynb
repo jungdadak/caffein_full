{
 "cells": [
  {
   "cell_type": "code",
   "execution_count": 2,
   "metadata": {},
   "outputs": [
    {
     "name": "stdout",
     "output_type": "stream",
     "text": [
      "'0901_merged_grouped.csv' 파일을 UTF-8 with BOM으로 인코딩하여 'C:/Users/PC/Desktop/caffein/montana/utf-8with_BOM_0901_0912'에 저장했습니다.\n",
      "'0901_merged_unmatched.csv' 파일을 UTF-8 with BOM으로 인코딩하여 'C:/Users/PC/Desktop/caffein/montana/utf-8with_BOM_0901_0912'에 저장했습니다.\n",
      "'0902_merged_grouped.csv' 파일을 UTF-8 with BOM으로 인코딩하여 'C:/Users/PC/Desktop/caffein/montana/utf-8with_BOM_0901_0912'에 저장했습니다.\n",
      "'0902_merged_unmatched.csv' 파일을 UTF-8 with BOM으로 인코딩하여 'C:/Users/PC/Desktop/caffein/montana/utf-8with_BOM_0901_0912'에 저장했습니다.\n",
      "'0903_merged_grouped.csv' 파일을 UTF-8 with BOM으로 인코딩하여 'C:/Users/PC/Desktop/caffein/montana/utf-8with_BOM_0901_0912'에 저장했습니다.\n",
      "'0903_merged_unmatched.csv' 파일을 UTF-8 with BOM으로 인코딩하여 'C:/Users/PC/Desktop/caffein/montana/utf-8with_BOM_0901_0912'에 저장했습니다.\n",
      "'0904_merged_grouped.csv' 파일을 UTF-8 with BOM으로 인코딩하여 'C:/Users/PC/Desktop/caffein/montana/utf-8with_BOM_0901_0912'에 저장했습니다.\n",
      "'0904_merged_unmatched.csv' 파일을 UTF-8 with BOM으로 인코딩하여 'C:/Users/PC/Desktop/caffein/montana/utf-8with_BOM_0901_0912'에 저장했습니다.\n",
      "'0905_merged_grouped.csv' 파일을 UTF-8 with BOM으로 인코딩하여 'C:/Users/PC/Desktop/caffein/montana/utf-8with_BOM_0901_0912'에 저장했습니다.\n",
      "'0905_merged_unmatched.csv' 파일을 UTF-8 with BOM으로 인코딩하여 'C:/Users/PC/Desktop/caffein/montana/utf-8with_BOM_0901_0912'에 저장했습니다.\n",
      "'0906_merged_grouped.csv' 파일을 UTF-8 with BOM으로 인코딩하여 'C:/Users/PC/Desktop/caffein/montana/utf-8with_BOM_0901_0912'에 저장했습니다.\n",
      "'0906_merged_unmatched.csv' 파일을 UTF-8 with BOM으로 인코딩하여 'C:/Users/PC/Desktop/caffein/montana/utf-8with_BOM_0901_0912'에 저장했습니다.\n",
      "'0907_merged_grouped.csv' 파일을 UTF-8 with BOM으로 인코딩하여 'C:/Users/PC/Desktop/caffein/montana/utf-8with_BOM_0901_0912'에 저장했습니다.\n",
      "'0907_merged_unmatched.csv' 파일을 UTF-8 with BOM으로 인코딩하여 'C:/Users/PC/Desktop/caffein/montana/utf-8with_BOM_0901_0912'에 저장했습니다.\n",
      "'0908_merged_grouped.csv' 파일을 UTF-8 with BOM으로 인코딩하여 'C:/Users/PC/Desktop/caffein/montana/utf-8with_BOM_0901_0912'에 저장했습니다.\n",
      "'0908_merged_unmatched.csv' 파일을 UTF-8 with BOM으로 인코딩하여 'C:/Users/PC/Desktop/caffein/montana/utf-8with_BOM_0901_0912'에 저장했습니다.\n",
      "'0909_merged_grouped.csv' 파일을 UTF-8 with BOM으로 인코딩하여 'C:/Users/PC/Desktop/caffein/montana/utf-8with_BOM_0901_0912'에 저장했습니다.\n",
      "'0909_merged_unmatched.csv' 파일을 UTF-8 with BOM으로 인코딩하여 'C:/Users/PC/Desktop/caffein/montana/utf-8with_BOM_0901_0912'에 저장했습니다.\n",
      "'0910_merged_grouped.csv' 파일을 UTF-8 with BOM으로 인코딩하여 'C:/Users/PC/Desktop/caffein/montana/utf-8with_BOM_0901_0912'에 저장했습니다.\n",
      "'0910_merged_unmatched.csv' 파일을 UTF-8 with BOM으로 인코딩하여 'C:/Users/PC/Desktop/caffein/montana/utf-8with_BOM_0901_0912'에 저장했습니다.\n",
      "'0911_merged_grouped.csv' 파일을 UTF-8 with BOM으로 인코딩하여 'C:/Users/PC/Desktop/caffein/montana/utf-8with_BOM_0901_0912'에 저장했습니다.\n",
      "'0911_merged_unmatched.csv' 파일을 UTF-8 with BOM으로 인코딩하여 'C:/Users/PC/Desktop/caffein/montana/utf-8with_BOM_0901_0912'에 저장했습니다.\n",
      "'0912_merged_grouped.csv' 파일을 UTF-8 with BOM으로 인코딩하여 'C:/Users/PC/Desktop/caffein/montana/utf-8with_BOM_0901_0912'에 저장했습니다.\n",
      "'0912_merged_unmatched.csv' 파일을 UTF-8 with BOM으로 인코딩하여 'C:/Users/PC/Desktop/caffein/montana/utf-8with_BOM_0901_0912'에 저장했습니다.\n"
     ]
    }
   ],
   "source": [
    "import os\n",
    "\n",
    "# 원본 CSV 파일들이 있는 폴더의 경로를 입력하세요\n",
    "input_folder_path = 'C:/Users/PC/Desktop/caffein/montana/in_out_0901_0912'  # 실제 입력 폴더 경로로 변경하세요\n",
    "\n",
    "# 변환된 CSV 파일을 저장할 폴더의 경로를 입력하세요\n",
    "output_folder_path = 'C:/Users/PC/Desktop/caffein/montana/utf-8with_BOM_0901_0912'  # 실제 출력 폴더 경로로 변경하세요\n",
    "\n",
    "# 출력 폴더가 존재하지 않으면 생성합니다\n",
    "if not os.path.exists(output_folder_path):\n",
    "    os.makedirs(output_folder_path)\n",
    "\n",
    "for filename in os.listdir(input_folder_path):\n",
    "    if filename.lower().endswith('.csv'):\n",
    "        input_file_path = os.path.join(input_folder_path, filename)\n",
    "        output_file_path = os.path.join(output_folder_path, filename)\n",
    "        # 기존 파일을 읽어옵니다 (필요에 따라 인코딩 변경)\n",
    "        with open(input_file_path, 'r', encoding='utf-8', errors='ignore') as f:\n",
    "            content = f.read()\n",
    "        # UTF-8 with BOM으로 파일을 저장합니다\n",
    "        with open(output_file_path, 'w', encoding='utf-8-sig') as f:\n",
    "            f.write(content)\n",
    "        print(f\"'{filename}' 파일을 UTF-8 with BOM으로 인코딩하여 '{output_folder_path}'에 저장했습니다.\")\n"
   ]
  },
  {
   "cell_type": "code",
   "execution_count": null,
   "metadata": {},
   "outputs": [],
   "source": []
  }
 ],
 "metadata": {
  "kernelspec": {
   "display_name": "cuda121",
   "language": "python",
   "name": "python3"
  },
  "language_info": {
   "codemirror_mode": {
    "name": "ipython",
    "version": 3
   },
   "file_extension": ".py",
   "mimetype": "text/x-python",
   "name": "python",
   "nbconvert_exporter": "python",
   "pygments_lexer": "ipython3",
   "version": "3.12.3"
  }
 },
 "nbformat": 4,
 "nbformat_minor": 2
}
