{
 "cells": [
  {
   "cell_type": "code",
   "execution_count": 1,
   "metadata": {},
   "outputs": [
    {
     "name": "stdout",
     "output_type": "stream",
     "text": [
      "Processed and saved C:/Users/PC/Desktop/caffein/montana/integration_0901_0912\\0901_merged.csv\n",
      "Processed and saved C:/Users/PC/Desktop/caffein/montana/integration_0901_0912\\0902_merged.csv\n",
      "Processed and saved C:/Users/PC/Desktop/caffein/montana/integration_0901_0912\\0903_merged.csv\n",
      "Processed and saved C:/Users/PC/Desktop/caffein/montana/integration_0901_0912\\0904_merged.csv\n",
      "Processed and saved C:/Users/PC/Desktop/caffein/montana/integration_0901_0912\\0905_merged.csv\n",
      "Processed and saved C:/Users/PC/Desktop/caffein/montana/integration_0901_0912\\0906_merged.csv\n",
      "Processed and saved C:/Users/PC/Desktop/caffein/montana/integration_0901_0912\\0907_merged.csv\n",
      "Processed and saved C:/Users/PC/Desktop/caffein/montana/integration_0901_0912\\0908_merged.csv\n",
      "Processed and saved C:/Users/PC/Desktop/caffein/montana/integration_0901_0912\\0909_merged.csv\n",
      "Processed and saved C:/Users/PC/Desktop/caffein/montana/integration_0901_0912\\0910_merged.csv\n",
      "Processed and saved C:/Users/PC/Desktop/caffein/montana/integration_0901_0912\\0911_merged.csv\n",
      "Processed and saved C:/Users/PC/Desktop/caffein/montana/integration_0901_0912\\0912_merged.csv\n",
      "No TIME column found in 0901_merged_grouped.csv\n",
      "Processed and saved C:/Users/PC/Desktop/caffein/montana/in_out_0901_0912\\0901_merged_unmatched.csv\n",
      "No TIME column found in 0902_merged_grouped.csv\n",
      "Processed and saved C:/Users/PC/Desktop/caffein/montana/in_out_0901_0912\\0902_merged_unmatched.csv\n",
      "No TIME column found in 0903_merged_grouped.csv\n",
      "Processed and saved C:/Users/PC/Desktop/caffein/montana/in_out_0901_0912\\0903_merged_unmatched.csv\n",
      "No TIME column found in 0904_merged_grouped.csv\n",
      "Processed and saved C:/Users/PC/Desktop/caffein/montana/in_out_0901_0912\\0904_merged_unmatched.csv\n",
      "No TIME column found in 0905_merged_grouped.csv\n",
      "Processed and saved C:/Users/PC/Desktop/caffein/montana/in_out_0901_0912\\0905_merged_unmatched.csv\n",
      "No TIME column found in 0906_merged_grouped.csv\n",
      "Processed and saved C:/Users/PC/Desktop/caffein/montana/in_out_0901_0912\\0906_merged_unmatched.csv\n",
      "No TIME column found in 0907_merged_grouped.csv\n",
      "Processed and saved C:/Users/PC/Desktop/caffein/montana/in_out_0901_0912\\0907_merged_unmatched.csv\n",
      "No TIME column found in 0908_merged_grouped.csv\n",
      "Processed and saved C:/Users/PC/Desktop/caffein/montana/in_out_0901_0912\\0908_merged_unmatched.csv\n",
      "No TIME column found in 0909_merged_grouped.csv\n",
      "Processed and saved C:/Users/PC/Desktop/caffein/montana/in_out_0901_0912\\0909_merged_unmatched.csv\n",
      "No TIME column found in 0910_merged_grouped.csv\n",
      "Processed and saved C:/Users/PC/Desktop/caffein/montana/in_out_0901_0912\\0910_merged_unmatched.csv\n",
      "No TIME column found in 0911_merged_grouped.csv\n",
      "Processed and saved C:/Users/PC/Desktop/caffein/montana/in_out_0901_0912\\0911_merged_unmatched.csv\n",
      "No TIME column found in 0912_merged_grouped.csv\n",
      "Processed and saved C:/Users/PC/Desktop/caffein/montana/in_out_0901_0912\\0912_merged_unmatched.csv\n"
     ]
    }
   ],
   "source": [
    "import os\n",
    "import pandas as pd\n",
    "\n",
    "# TIME 열에서 소수점을 제거하는 함수 (덮어쓰기)\n",
    "def remove_decimal_from_time(folders):\n",
    "    # 여러 폴더를 처리\n",
    "    for folder in folders:\n",
    "        # 하위 폴더 포함하여 모든 CSV 파일을 탐색\n",
    "        for root, dirs, files in os.walk(folder):\n",
    "            for file in files:\n",
    "                if file.endswith('.csv'):\n",
    "                    file_path = os.path.join(root, file)\n",
    "                    \n",
    "                    # CSV 파일 읽기\n",
    "                    data = pd.read_csv(file_path)\n",
    "\n",
    "                    # TIME 열이 존재하는지 확인 후 처리\n",
    "                    if 'TIME' in data.columns:\n",
    "                        # TIME 열에서 소수점 제거\n",
    "                        data['TIME'] = data['TIME'].str.split('.').str[0]\n",
    "\n",
    "                        # 수정된 데이터를 원본 파일에 덮어쓰기\n",
    "                        data.to_csv(file_path, index=False)\n",
    "                        print(f\"Processed and saved {file_path}\")\n",
    "                    else:\n",
    "                        print(f\"No TIME column found in {file}\")\n",
    "\n",
    "# 입력 폴더 설정 (두 개의 폴더를 리스트로)\n",
    "folders = [\n",
    "    'C:/Users/PC/Desktop/caffein/montana/integration_0901_0912',\n",
    "    'C:/Users/PC/Desktop/caffein/montana/in_out_0901_0912']\n",
    "\n",
    "# TIME 열의 소수점을 제거하고 원본 파일에 덮어쓰기\n",
    "remove_decimal_from_time(folders)\n"
   ]
  },
  {
   "cell_type": "code",
   "execution_count": null,
   "metadata": {},
   "outputs": [],
   "source": []
  }
 ],
 "metadata": {
  "kernelspec": {
   "display_name": "cuda121",
   "language": "python",
   "name": "python3"
  },
  "language_info": {
   "codemirror_mode": {
    "name": "ipython",
    "version": 3
   },
   "file_extension": ".py",
   "mimetype": "text/x-python",
   "name": "python",
   "nbconvert_exporter": "python",
   "pygments_lexer": "ipython3",
   "version": "3.12.3"
  }
 },
 "nbformat": 4,
 "nbformat_minor": 2
}
