{
 "cells": [
  {
   "cell_type": "code",
   "execution_count": 1,
   "metadata": {},
   "outputs": [
    {
     "name": "stdout",
     "output_type": "stream",
     "text": [
      "병합 완료: C:/Users/PC/Desktop/caffein/montana/integration_0901_0912\\0901_merged.csv\n",
      "병합 완료: C:/Users/PC/Desktop/caffein/montana/integration_0901_0912\\0902_merged.csv\n",
      "병합 완료: C:/Users/PC/Desktop/caffein/montana/integration_0901_0912\\0903_merged.csv\n",
      "병합 완료: C:/Users/PC/Desktop/caffein/montana/integration_0901_0912\\0904_merged.csv\n",
      "병합 완료: C:/Users/PC/Desktop/caffein/montana/integration_0901_0912\\0905_merged.csv\n",
      "병합 완료: C:/Users/PC/Desktop/caffein/montana/integration_0901_0912\\0906_merged.csv\n",
      "병합 완료: C:/Users/PC/Desktop/caffein/montana/integration_0901_0912\\0907_merged.csv\n",
      "병합 완료: C:/Users/PC/Desktop/caffein/montana/integration_0901_0912\\0908_merged.csv\n",
      "병합 완료: C:/Users/PC/Desktop/caffein/montana/integration_0901_0912\\0909_merged.csv\n",
      "병합 완료: C:/Users/PC/Desktop/caffein/montana/integration_0901_0912\\0910_merged.csv\n",
      "병합 완료: C:/Users/PC/Desktop/caffein/montana/integration_0901_0912\\0911_merged.csv\n",
      "병합 완료: C:/Users/PC/Desktop/caffein/montana/integration_0901_0912\\0912_merged.csv\n"
     ]
    },
    {
     "name": "stderr",
     "output_type": "stream",
     "text": [
      "C:\\Users\\PC\\AppData\\Local\\Temp\\ipykernel_27520\\1687395128.py:31: FutureWarning: The behavior of DataFrame concatenation with empty or all-NA entries is deprecated. In a future version, this will no longer exclude empty or all-NA columns when determining the result dtypes. To retain the old behavior, exclude the relevant entries before the concat operation.\n",
      "  merged_df = pd.concat([merged_df, df], ignore_index=True)\n"
     ]
    }
   ],
   "source": [
    "import pandas as pd\n",
    "import os\n",
    "\n",
    "# 폴더에서 CSV 파일을 날짜순으로 병합하는 함수\n",
    "def merge_csv_files(source_folder, output_folder):\n",
    "    # 결과를 저장할 폴더가 없으면 생성\n",
    "    if not os.path.exists(output_folder):\n",
    "        os.makedirs(output_folder)\n",
    "    \n",
    "    # CSV 파일 목록 가져오기 (파일 이름 사전순 정렬)\n",
    "    csv_files = sorted([f for f in os.listdir(source_folder) if f.endswith('.csv')])\n",
    "\n",
    "    # 날짜별로 CSV 파일 병합\n",
    "    grouped_files = {}\n",
    "    for csv_file in csv_files:\n",
    "        # 파일 이름에서 날짜 부분 추출 (예: '0901')\n",
    "        base_name = csv_file.split('_')[0]\n",
    "        \n",
    "        if base_name not in grouped_files:\n",
    "            grouped_files[base_name] = []\n",
    "        grouped_files[base_name].append(csv_file)\n",
    "\n",
    "    # 그룹별로 CSV 파일 병합\n",
    "    for date, files in grouped_files.items():\n",
    "        merged_df = pd.DataFrame()\n",
    "        \n",
    "        # 파일들을 순서대로 읽고 병합\n",
    "        for file in files:\n",
    "            file_path = os.path.join(source_folder, file)\n",
    "            df = pd.read_csv(file_path)\n",
    "            merged_df = pd.concat([merged_df, df], ignore_index=True)\n",
    "        \n",
    "        # 병합한 파일 저장\n",
    "        output_file_path = os.path.join(output_folder, f'{date}_merged.csv')\n",
    "        merged_df.to_csv(output_file_path, index=False)\n",
    "        print(f\"병합 완료: {output_file_path}\")\n",
    "\n",
    "# 원본 CSV 파일이 저장된 폴더와 병합 결과를 저장할 폴더 경로\n",
    "source_folder = 'C:/Users/PC/Desktop/caffein/montana/result_0901_0912_time'\n",
    "output_folder = 'C:/Users/PC/Desktop/caffein/montana/integration_0901_0912'\n",
    "\n",
    "# CSV 파일 병합 실행\n",
    "merge_csv_files(source_folder, output_folder)\n"
   ]
  },
  {
   "cell_type": "code",
   "execution_count": null,
   "metadata": {},
   "outputs": [],
   "source": []
  }
 ],
 "metadata": {
  "kernelspec": {
   "display_name": "cuda121",
   "language": "python",
   "name": "python3"
  },
  "language_info": {
   "codemirror_mode": {
    "name": "ipython",
    "version": 3
   },
   "file_extension": ".py",
   "mimetype": "text/x-python",
   "name": "python",
   "nbconvert_exporter": "python",
   "pygments_lexer": "ipython3",
   "version": "3.12.3"
  }
 },
 "nbformat": 4,
 "nbformat_minor": 2
}
